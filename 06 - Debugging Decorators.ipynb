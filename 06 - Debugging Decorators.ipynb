{
 "cells": [
  {
   "cell_type": "markdown",
   "metadata": {
    "slideshow": {
     "slide_type": "slide"
    }
   },
   "source": [
    "# Debugging Decorators"
   ]
  },
  {
   "cell_type": "code",
   "execution_count": 1,
   "metadata": {
    "slideshow": {
     "slide_type": "subslide"
    }
   },
   "outputs": [],
   "source": [
    "def hasha(func):\n",
    "\n",
    "    def inner(*args, **kwargs):\n",
    "        print(\"#\" * 50)\n",
    "        func(*args, **kwargs)\n",
    "        print(\"#\" * 50)\n",
    "    return inner\n",
    "\n",
    "def dash(func):\n",
    "\n",
    "    def inner(*args, **kwargs):\n",
    "        print(\"-\" * 50)\n",
    "        func(*args, **kwargs)\n",
    "        print(\"-\" * 50)\n",
    "    return inner\n"
   ]
  },
  {
   "cell_type": "code",
   "execution_count": 2,
   "metadata": {
    "slideshow": {
     "slide_type": "slide"
    }
   },
   "outputs": [],
   "source": [
    "@hasha\n",
    "@dash\n",
    "def show(greeting):\n",
    "    print(greeting)"
   ]
  },
  {
   "cell_type": "code",
   "execution_count": 3,
   "metadata": {
    "slideshow": {
     "slide_type": "fragment"
    }
   },
   "outputs": [
    {
     "data": {
      "text/plain": [
       "'inner'"
      ]
     },
     "execution_count": 3,
     "metadata": {},
     "output_type": "execute_result"
    }
   ],
   "source": [
    "show.__name__"
   ]
  },
  {
   "cell_type": "code",
   "execution_count": 6,
   "metadata": {
    "slideshow": {
     "slide_type": "slide"
    }
   },
   "outputs": [],
   "source": [
    "import functools"
   ]
  },
  {
   "cell_type": "code",
   "execution_count": 7,
   "metadata": {
    "slideshow": {
     "slide_type": "subslide"
    }
   },
   "outputs": [],
   "source": [
    "def hasha(func):\n",
    "    @functools.wraps(func)\n",
    "    def inner(*args, **kwargs):\n",
    "        print(\"#\" * 50)\n",
    "        func(*args, **kwargs)\n",
    "        print(\"#\" * 50)\n",
    "    return inner\n",
    "\n",
    "def dash(func):\n",
    "    @functools.wraps(func)\n",
    "    def inner(*args, **kwargs):\n",
    "        print(\"-\" * 50)\n",
    "        func(*args, **kwargs)\n",
    "        print(\"-\" * 50)\n",
    "    return inner\n"
   ]
  },
  {
   "cell_type": "code",
   "execution_count": 8,
   "metadata": {
    "slideshow": {
     "slide_type": "slide"
    }
   },
   "outputs": [],
   "source": [
    "@hasha\n",
    "@dash\n",
    "def show(greeting):\n",
    "    print(greeting)"
   ]
  },
  {
   "cell_type": "code",
   "execution_count": 9,
   "metadata": {
    "slideshow": {
     "slide_type": "fragment"
    }
   },
   "outputs": [
    {
     "data": {
      "text/plain": [
       "'show'"
      ]
     },
     "execution_count": 9,
     "metadata": {},
     "output_type": "execute_result"
    }
   ],
   "source": [
    "show.__name__"
   ]
  },
  {
   "cell_type": "code",
   "execution_count": 29,
   "metadata": {
    "slideshow": {
     "slide_type": "slide"
    }
   },
   "outputs": [],
   "source": [
    "def unchanged(func):\n",
    "    return func\n",
    "\"This decorator doesn't add any behavior\"\n",
    "\n",
    " \n",
    "def disabled(func):\n",
    "    def empty_func(*args,**kargs):\n",
    "        pass\n",
    "    \"This decorator disables the provided function, and does nothing\"\n",
    "    return empty_func"
   ]
  },
  {
   "cell_type": "code",
   "execution_count": 30,
   "metadata": {
    "slideshow": {
     "slide_type": "subslide"
    }
   },
   "outputs": [],
   "source": [
    "@unchanged\n",
    "def show(greeting):\n",
    "    print(greeting)"
   ]
  },
  {
   "cell_type": "code",
   "execution_count": 31,
   "metadata": {
    "slideshow": {
     "slide_type": "fragment"
    }
   },
   "outputs": [
    {
     "name": "stdout",
     "output_type": "stream",
     "text": [
      "Hello\n"
     ]
    }
   ],
   "source": [
    "show(\"Hello\")"
   ]
  },
  {
   "cell_type": "code",
   "execution_count": 32,
   "metadata": {
    "slideshow": {
     "slide_type": "fragment"
    }
   },
   "outputs": [],
   "source": [
    "@disabled\n",
    "def show(greeting):\n",
    "    print(greeting)"
   ]
  },
  {
   "cell_type": "code",
   "execution_count": 34,
   "metadata": {
    "slideshow": {
     "slide_type": "fragment"
    }
   },
   "outputs": [],
   "source": [
    "show(\"Hello\")"
   ]
  }
 ],
 "metadata": {
  "celltoolbar": "Slideshow",
  "kernelspec": {
   "display_name": "Python 3",
   "language": "python",
   "name": "python3"
  },
  "language_info": {
   "codemirror_mode": {
    "name": "ipython",
    "version": 3
   },
   "file_extension": ".py",
   "mimetype": "text/x-python",
   "name": "python",
   "nbconvert_exporter": "python",
   "pygments_lexer": "ipython3",
   "version": "3.7.0"
  }
 },
 "nbformat": 4,
 "nbformat_minor": 2
}
