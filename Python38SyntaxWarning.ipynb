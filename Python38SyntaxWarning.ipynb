{
 "cells": [
  {
   "cell_type": "code",
   "execution_count": 3,
   "metadata": {},
   "outputs": [
    {
     "name": "stdout",
     "output_type": "stream",
     "text": [
      "[('a', 'b', 'c'), ('d', 'e', 'f')]\n",
      "None\n"
     ]
    }
   ],
   "source": [
    "def new_warning():\n",
    "    data=[\n",
    "        (\"a\",\"b\",\"c\"),\n",
    "        (\"d\",\"e\",\"f\")\n",
    "    ]\n",
    "    print(data)\n",
    "\n",
    "a = new_warning()\n",
    "print(a)"
   ]
  }
 ],
 "metadata": {
  "kernelspec": {
   "display_name": "Python 3",
   "language": "python",
   "name": "python3"
  },
  "language_info": {
   "codemirror_mode": {
    "name": "ipython",
    "version": 3
   },
   "file_extension": ".py",
   "mimetype": "text/x-python",
   "name": "python",
   "nbconvert_exporter": "python",
   "pygments_lexer": "ipython3",
   "version": "3.7.0"
  }
 },
 "nbformat": 4,
 "nbformat_minor": 2
}
