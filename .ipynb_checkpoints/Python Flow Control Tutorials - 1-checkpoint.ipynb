{
 "cells": [
  {
   "cell_type": "code",
   "execution_count": 4,
   "metadata": {},
   "outputs": [],
   "source": [
    "# Flow Controls in Python which includes;\n",
    "# -If else statements in Python\n",
    "# -While loop in Python\n",
    "# -Break & Continue in Python\n",
    "# -Python Pass"
   ]
  },
  {
   "cell_type": "code",
   "execution_count": null,
   "metadata": {},
   "outputs": [],
   "source": [
    "# If else statement\n",
    "# if else statement is used when a code needs to be executed when a certain condition is satisfied."
   ]
  },
  {
   "cell_type": "code",
   "execution_count": 3,
   "metadata": {},
   "outputs": [
    {
     "name": "stdout",
     "output_type": "stream",
     "text": [
      "Enter a number: -6\n",
      "This is always printed.\n"
     ]
    }
   ],
   "source": [
    "# Lets take an example\n",
    "# Using if elif else\n",
    "num = float(input(\"Enter a number: \"))\n",
    "if num > 0:\n",
    "   print(\"Positive number\")\n",
    "print(\"This is always printed.\")\n",
    "# elif num == 0:\n",
    "#    print(\"Zero\")\n",
    "# else:\n",
    "#    print(\"Zero or Negative number\")"
   ]
  },
  {
   "cell_type": "code",
   "execution_count": 5,
   "metadata": {},
   "outputs": [
    {
     "name": "stdout",
     "output_type": "stream",
     "text": [
      "Enter a number: -9\n",
      "Negative number\n"
     ]
    }
   ],
   "source": [
    "# Using Nested If\n",
    "# num = float(input(\"Enter a number: \"))\n",
    "# if num >= 0:\n",
    "#    if num == 0:\n",
    "#        print(\"Zero\")\n",
    "#    else:\n",
    "#        print(\"Positive number\")\n",
    "# else:\n",
    "#    print(\"Negative number\")"
   ]
  },
  {
   "cell_type": "code",
   "execution_count": 6,
   "metadata": {},
   "outputs": [],
   "source": [
    "# Now you can try with a python program to find odd or even.\n",
    "# Python program to check if the input number is odd or even."
   ]
  },
  {
   "cell_type": "code",
   "execution_count": 7,
   "metadata": {},
   "outputs": [],
   "source": [
    "# For Loop in Python"
   ]
  },
  {
   "cell_type": "code",
   "execution_count": 8,
   "metadata": {},
   "outputs": [],
   "source": [
    "# The for loop is used to iterate over a sequence of iterable objects in python. This is called Traversal."
   ]
  },
  {
   "cell_type": "code",
   "execution_count": 10,
   "metadata": {},
   "outputs": [],
   "source": [
    "# Syntax\n",
    "# for val in sequence:\n",
    "#     Body of for\n",
    "# Here val takes the value of item in sequence.\n",
    "# Loop continues until we reach the last item in the sequence. \n",
    "# The body of for loop is separated from the rest of the code using indentation."
   ]
  },
  {
   "cell_type": "code",
   "execution_count": 13,
   "metadata": {},
   "outputs": [
    {
     "name": "stdout",
     "output_type": "stream",
     "text": [
      "5 is a prime number\n"
     ]
    }
   ],
   "source": [
    "# Lets take an example \n",
    "# Python program to check if the input number is prime or not\n",
    "\n",
    "num = 5\n",
    "\n",
    "# take input from the user\n",
    "# num = int(input(\"Enter a number: \"))\n",
    "\n",
    "# prime numbers are greater than 1\n",
    "if num > 1:\n",
    "   # check for factors\n",
    "   for i in range(2,num):\n",
    "       if (num % i) == 0:\n",
    "           print(num,\"is not a prime number\")\n",
    "           print(i,\"times\",num//i,\"is\",num)\n",
    "           break\n",
    "   else:\n",
    "       print(num,\"is a prime number\")\n",
    "       \n",
    "# if input number is less than\n",
    "# or equal to 1, it is not prime\n",
    "else:\n",
    "   print(num,\"is not a prime number\")"
   ]
  },
  {
   "cell_type": "code",
   "execution_count": null,
   "metadata": {},
   "outputs": [],
   "source": [
    "# We can generate a sequence of numbers using range() function. It has the start, stop and step size as range(start,stop,\n",
    "# step size). Step size defaults to 1 if not provided."
   ]
  },
  {
   "cell_type": "code",
   "execution_count": 14,
   "metadata": {},
   "outputs": [],
   "source": [
    "# Python While Loop"
   ]
  },
  {
   "cell_type": "code",
   "execution_count": 15,
   "metadata": {},
   "outputs": [],
   "source": [
    "# The while loop in Python is used to iterate over a block of code as long as the test expression (condition) is true.\n",
    "# Syntax of while loop\n",
    "# while test_expression:\n",
    "#     Body of while\n",
    "# In Python, the body of the while loop is determined through indentation."
   ]
  },
  {
   "cell_type": "code",
   "execution_count": 17,
   "metadata": {},
   "outputs": [],
   "source": [
    "# Program to add natural\n",
    "# numbers upto \n",
    "# sum = 1+2+3+...+n\n",
    "\n",
    "# To take input from the user,\n",
    "# n = int(input(\"Enter n: \"))\n",
    "\n",
    "# n = 10\n",
    "\n",
    "# initialize sum and counter\n",
    "# print the sum\n",
    "# print(\"The sum is\", sum)"
   ]
  },
  {
   "cell_type": "code",
   "execution_count": 19,
   "metadata": {},
   "outputs": [],
   "source": [
    "# while loop with else\n",
    "# The else part is executed if the condition in the while loop evaluates to False."
   ]
  },
  {
   "cell_type": "code",
   "execution_count": null,
   "metadata": {},
   "outputs": [],
   "source": [
    "# Example to illustrate\n",
    "# the use of else statement\n",
    "# with the while loop\n",
    "\n",
    "# counter = 0\n",
    "\n",
    "# while counter < 3:\n",
    "#     print(\"Inside loop\")\n",
    "#     counter = counter + 1\n",
    "# else:\n",
    "#     print(\"Inside else\")"
   ]
  }
 ],
 "metadata": {
  "kernelspec": {
   "display_name": "Python 3",
   "language": "python",
   "name": "python3"
  },
  "language_info": {
   "codemirror_mode": {
    "name": "ipython",
    "version": 3
   },
   "file_extension": ".py",
   "mimetype": "text/x-python",
   "name": "python",
   "nbconvert_exporter": "python",
   "pygments_lexer": "ipython3",
   "version": "3.7.0"
  }
 },
 "nbformat": 4,
 "nbformat_minor": 2
}
