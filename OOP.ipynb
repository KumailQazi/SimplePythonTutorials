{
 "cells": [
  {
   "cell_type": "code",
   "execution_count": 1,
   "metadata": {},
   "outputs": [],
   "source": [
    "# OOP in Python - Object and Classes in Python\n",
    "# It will include\n",
    "# OOP in Python\n",
    "# Class\n",
    "# Inheritance\n",
    "# Multiple Inheritance\n",
    "# Operator Overlapping"
   ]
  },
  {
   "cell_type": "code",
   "execution_count": 2,
   "metadata": {},
   "outputs": [],
   "source": [
    "# Syntax of the Class is\n",
    "class myself():\n",
    "    pass"
   ]
  },
  {
   "cell_type": "code",
   "execution_count": 3,
   "metadata": {},
   "outputs": [],
   "source": [
    "# Instance Attribute - that will execute whenever we intentiate the class.\n",
    "class Cat():\n",
    "    species = \"animal\"\n",
    "    \n",
    "    def __init__(self): #Constructor method that will execute as soon as the class is intentiated.\n",
    "        print(\"Nice we have a cat\")"
   ]
  },
  {
   "cell_type": "code",
   "execution_count": 4,
   "metadata": {},
   "outputs": [
    {
     "name": "stdout",
     "output_type": "stream",
     "text": [
      "Nice we have a cat\n"
     ]
    }
   ],
   "source": [
    "Tom = Cat()"
   ]
  },
  {
   "cell_type": "code",
   "execution_count": 5,
   "metadata": {},
   "outputs": [
    {
     "data": {
      "text/plain": [
       "'animal'"
      ]
     },
     "execution_count": 5,
     "metadata": {},
     "output_type": "execute_result"
    }
   ],
   "source": [
    "Tom.species"
   ]
  },
  {
   "cell_type": "code",
   "execution_count": 6,
   "metadata": {},
   "outputs": [],
   "source": [
    "class Peacock():\n",
    "    # class attributes are same for all all instances.\n",
    "    species = \"bird\"\n",
    "    \n",
    "    # instance attribute (i.e. different for each class. We use __init__() method to initialize to specify an object's initial\n",
    "    #  attributes by giving them their default values or state. This method must have atleast one argument as well as the self \n",
    "    #  variable. which refers to the object itself.)\n",
    "    def __init__(self, name, age): \n",
    "        self.name = name\n",
    "        self.age = age\n",
    "    # instance methods are used to get content of the class and are defined inside class.\n",
    "    def run(self, run):\n",
    "        return \"{} runs {}\".format(self.name, run)"
   ]
  },
  {
   "cell_type": "code",
   "execution_count": 7,
   "metadata": {},
   "outputs": [
    {
     "name": "stdout",
     "output_type": "stream",
     "text": [
      "Jerry runs very fast\n"
     ]
    }
   ],
   "source": [
    "Jerry = Peacock(\"Jerry\", 25)\n",
    "print(Jerry.run(\"very fast\"))"
   ]
  },
  {
   "cell_type": "code",
   "execution_count": 8,
   "metadata": {},
   "outputs": [
    {
     "name": "stdout",
     "output_type": "stream",
     "text": [
      "Blu runs 'Happily'\n"
     ]
    }
   ],
   "source": [
    "# Instantiating is a fancy term for creating a new, unique instance of the class. Instantiate the Peacock class. \n",
    "blu = Peacock(\"Blu\", 10)\n",
    "woo = Peacock(\"Woo\", 15)\n",
    "# call our instance methods\n",
    "print(blu.run(\"'Happily'\"))"
   ]
  },
  {
   "cell_type": "code",
   "execution_count": 9,
   "metadata": {},
   "outputs": [],
   "source": [
    "# Demonstrating that each instance is actually different\n",
    "white = Peacock(\"White\",4)\n",
    "white2 = Peacock(\"White\",4)"
   ]
  },
  {
   "cell_type": "code",
   "execution_count": 10,
   "metadata": {},
   "outputs": [
    {
     "data": {
      "text/plain": [
       "False"
      ]
     },
     "execution_count": 10,
     "metadata": {},
     "output_type": "execute_result"
    }
   ],
   "source": [
    "white == white2"
   ]
  },
  {
   "cell_type": "code",
   "execution_count": 11,
   "metadata": {},
   "outputs": [
    {
     "name": "stdout",
     "output_type": "stream",
     "text": [
      "Peacock name is Blu. Peacock age is 10\n"
     ]
    }
   ],
   "source": [
    "# access the instance attributes\n",
    "print(\"Peacock name is {}. Peacock age is {}\".format(blu.name, blu.age))"
   ]
  },
  {
   "cell_type": "code",
   "execution_count": 12,
   "metadata": {},
   "outputs": [
    {
     "name": "stdout",
     "output_type": "stream",
     "text": [
      "Blu is a bird\n",
      "Woo is also a bird\n"
     ]
    }
   ],
   "source": [
    "# access the class attributes\n",
    "print(\"Blu is a {}\".format(blu.__class__.species))\n",
    "print(\"Woo is also a {}\".format(woo.__class__.species))"
   ]
  },
  {
   "cell_type": "code",
   "execution_count": 13,
   "metadata": {},
   "outputs": [
    {
     "name": "stdout",
     "output_type": "stream",
     "text": [
      "Silo is 5 and Pinky is 6.\n"
     ]
    }
   ],
   "source": [
    "# Instantiating the Dog Object with Example\n",
    "class Dog:\n",
    "\n",
    "    # Class Attribute\n",
    "    species = 'mammal'\n",
    "\n",
    "    # Initializer / Instance Attributes\n",
    "    def __init__(self, name, age):\n",
    "        self.name = name\n",
    "        self.age = age\n",
    "\n",
    "\n",
    "# Instantiate the Dog object\n",
    "silo = Dog(\"Silo\", 5)\n",
    "pinky = Dog(\"Pinky\", 6)\n",
    "\n",
    "# Access the instance attributes\n",
    "print(\"{} is {} and {} is {}.\".format(\n",
    "    silo.name, silo.age, pinky.name, pinky.age))"
   ]
  },
  {
   "cell_type": "code",
   "execution_count": 14,
   "metadata": {},
   "outputs": [],
   "source": [
    "# Inheritence\n",
    "# Parent Class and Child Class\n",
    "# Use of super function before init method\n",
    "# Use of Inheritence\n",
    "# parent class\n",
    "class Bird:\n",
    "    color = \"red\"\n",
    "    def __init__(self):\n",
    "        print(\"Bird is ready\")\n",
    "\n",
    "    def whoisThis(self):\n",
    "        print(\"Bird\")\n",
    "\n",
    "    def swim(self):\n",
    "        print(\"Swim faster\")\n",
    "\n",
    "# child class\n",
    "class Penguin(Bird):\n",
    "\n",
    "    def __init__(self):\n",
    "        # call super() function\n",
    "        super().__init__() #Inherited Parent class self executing method. Super function call parent class init method content to\n",
    "#       child class\n",
    "        print(\"Penguin is ready\")\n",
    "\n",
    "#     Overriding parent class attribute\n",
    "    def whoisThis(self):\n",
    "        print(\"Penguin\")\n",
    "\n",
    "    def run(self):\n",
    "        print(\"Run faster\")\n",
    "\n"
   ]
  },
  {
   "cell_type": "code",
   "execution_count": 15,
   "metadata": {},
   "outputs": [
    {
     "name": "stdout",
     "output_type": "stream",
     "text": [
      "Bird is ready\n",
      "Penguin is ready\n",
      "Penguin\n",
      "Swim faster\n",
      "Run faster\n"
     ]
    }
   ],
   "source": [
    "peggy = Penguin()\n",
    "# Here peggy overrides the parent ckass bird.\n",
    "peggy.whoisThis()\n",
    "peggy.swim()\n",
    "peggy.run()"
   ]
  },
  {
   "cell_type": "code",
   "execution_count": 16,
   "metadata": {},
   "outputs": [
    {
     "name": "stdout",
     "output_type": "stream",
     "text": [
      "Bird is ready\n",
      "Bird\n"
     ]
    }
   ],
   "source": [
    "Jerry = Bird()\n",
    "Jerry.whoisThis()"
   ]
  },
  {
   "cell_type": "code",
   "execution_count": 17,
   "metadata": {},
   "outputs": [
    {
     "name": "stdout",
     "output_type": "stream",
     "text": [
      "Bird is ready\n",
      "Bird\n"
     ]
    }
   ],
   "source": [
    "class Bird1:\n",
    "    color = \"red\"\n",
    "    def __init__(self):\n",
    "        print(\"Bird is ready\")\n",
    "\n",
    "    def whoisThis(self):\n",
    "        print(\"Bird\")\n",
    "\n",
    "    def swim(self):\n",
    "        print(\"Swim faster\")\n",
    "\n",
    "# child class\n",
    "class Penguin1:\n",
    "\n",
    "    def __init__(self):\n",
    "        # call super() function\n",
    "        super().__init__() #Inherited Parent class self executing method. Super function call parent class init method content to\n",
    "#       child class\n",
    "        print(\"Penguin is ready\")\n",
    "\n",
    "#     Overriding parent class attribute\n",
    "    def whoisThis(self):\n",
    "        print(\"Penguin\")\n",
    "\n",
    "    def run(self):\n",
    "        print(\"Run faster\")\n",
    "\n",
    "# Method Resolution Order        \n",
    "class both2(Bird1,Penguin1):\n",
    "    pass\n",
    "obj1 = both2()\n",
    "obj1.whoisThis()\n"
   ]
  },
  {
   "cell_type": "code",
   "execution_count": 18,
   "metadata": {},
   "outputs": [],
   "source": [
    "# Overriding the Functionality of a Parent Class\n",
    "# We can also override the characteristics of Parent class in child class by redefining it.\n",
    "# For example\n",
    "class someotherbird(Bird):\n",
    "    color = 'white'"
   ]
  },
  {
   "cell_type": "code",
   "execution_count": 19,
   "metadata": {},
   "outputs": [
    {
     "name": "stdout",
     "output_type": "stream",
     "text": [
      "Bird is ready\n"
     ]
    },
    {
     "data": {
      "text/plain": [
       "'white'"
      ]
     },
     "execution_count": 19,
     "metadata": {},
     "output_type": "execute_result"
    }
   ],
   "source": [
    "newbird = someotherbird()\n",
    "newbird.color"
   ]
  },
  {
   "cell_type": "code",
   "execution_count": 20,
   "metadata": {},
   "outputs": [
    {
     "ename": "SyntaxError",
     "evalue": "invalid syntax (<ipython-input-20-565774a2981c>, line 1)",
     "output_type": "error",
     "traceback": [
      "\u001b[1;36m  File \u001b[1;32m\"<ipython-input-20-565774a2981c>\"\u001b[1;36m, line \u001b[1;32m1\u001b[0m\n\u001b[1;33m    Review Exercise\u001b[0m\n\u001b[1;37m                  ^\u001b[0m\n\u001b[1;31mSyntaxError\u001b[0m\u001b[1;31m:\u001b[0m invalid syntax\n"
     ]
    }
   ],
   "source": [
    "Review Exercise\n",
    "# Create an Animal Class and a Bird class that inherits characteristics from Animal class and has its on attributes also."
   ]
  },
  {
   "cell_type": "code",
   "execution_count": null,
   "metadata": {},
   "outputs": [],
   "source": [
    "# Multiple Inheritance in Python\n",
    "# For example mode of transportation derives from Airplane and bus. "
   ]
  },
  {
   "cell_type": "code",
   "execution_count": null,
   "metadata": {},
   "outputs": [],
   "source": [
    "# Syntax of Multiple Inheritence\n",
    "class Inheritence1:\n",
    "    pass\n",
    "\n",
    "class Inheritence2:\n",
    "    pass\n",
    "\n",
    "class MultiInheritence(Inheritence1, Inheritence2):\n",
    "    pass"
   ]
  },
  {
   "cell_type": "code",
   "execution_count": null,
   "metadata": {},
   "outputs": [],
   "source": [
    "# Multi Level Inheritance in Python\n",
    "# For example Humans are derived from Mammals and Mammals are derived from animals"
   ]
  },
  {
   "cell_type": "code",
   "execution_count": null,
   "metadata": {},
   "outputs": [],
   "source": [
    "# Syntax of Multi-Level Inheritence\n",
    "class Base:\n",
    "    pass\n",
    "\n",
    "class Derived1(Base):\n",
    "    pass\n",
    "\n",
    "class Derived2(Derived1):\n",
    "    pass"
   ]
  },
  {
   "cell_type": "code",
   "execution_count": null,
   "metadata": {},
   "outputs": [],
   "source": [
    "# Method Resolution Order\n",
    "# When we search for an attribute in a class that is involved in python multiple inheritance, an order\n",
    "# is followed. First, it is searched in the current class. If not found, the search moves to parent\n",
    "# classes. This is left-to-right, depth-first.\n",
    "# Inheritence\n",
    "# Parent Class and Child Class\n",
    "# Use of super function before init method\n",
    "# Use of Inheritence\n",
    "# parent class\n",
    "class Bird:\n",
    "    color = \"red\"\n",
    "    def __init__(self):\n",
    "        print(\"Bird is ready\")\n",
    "\n",
    "    def whoisThis(self):\n",
    "        print(\"Bird\")\n",
    "\n",
    "    def swim(self):\n",
    "        print(\"Swim faster\")\n",
    "\n",
    "# child class\n",
    "class Penguin():\n",
    "\n",
    "    def __init__(self):\n",
    "        # call super() function\n",
    "        super().__init__() #Inherited Parent class self executing method. Super function call parent class init method content to\n",
    "#       child class\n",
    "        print(\"Penguin is ready\")\n",
    "\n",
    "#     Overriding parent class attribute\n",
    "    def whoisThis(self):\n",
    "        print(\"Penguin\")\n",
    "\n",
    "    def run(self):\n",
    "        print(\"Run faster\")\n",
    "\n",
    "# Method Resolution Order        \n",
    "class both(Penguin,Bird):\n",
    "    pass\n",
    "obj1 = both()\n",
    "obj1.whoisThis()"
   ]
  },
  {
   "cell_type": "code",
   "execution_count": null,
   "metadata": {},
   "outputs": [],
   "source": [
    "# Operator Overloading\n",
    "# Python operators work for built-in classes. But same operator behaves differently with different types. \n",
    "# For example, the + operator will, perform arithmetic addition on two numbers, merge two lists and concatenate two strings.\n",
    "# The feature in Python, that allows same operator to have different meaning \n",
    "# according to the context is called operator overloading.\n",
    "# For e.g."
   ]
  },
  {
   "cell_type": "code",
   "execution_count": 1,
   "metadata": {},
   "outputs": [
    {
     "name": "stdout",
     "output_type": "stream",
     "text": [
      "Hello\n"
     ]
    }
   ],
   "source": [
    "# String\n",
    "a = \"He\"\n",
    "b = \"llo\"\n",
    "c= a+b\n",
    "print(c)"
   ]
  },
  {
   "cell_type": "code",
   "execution_count": 2,
   "metadata": {},
   "outputs": [
    {
     "name": "stdout",
     "output_type": "stream",
     "text": [
      "11\n"
     ]
    }
   ],
   "source": [
    "# Integers\n",
    "d = 5\n",
    "e = 6\n",
    "f = d + e\n",
    "print(f)"
   ]
  },
  {
   "cell_type": "code",
   "execution_count": 4,
   "metadata": {},
   "outputs": [],
   "source": [
    "# List\n",
    "Students = [\"John\", 8, \"Ami\", 5, \"Ali\", 4]\n",
    "New_Students = [\"Joseph\", 8, \"Alex\",7]\n",
    "Total_Students = Students + New_Students"
   ]
  },
  {
   "cell_type": "code",
   "execution_count": 5,
   "metadata": {},
   "outputs": [
    {
     "name": "stdout",
     "output_type": "stream",
     "text": [
      "['John', 8, 'Ami', 5, 'Ali', 4, 'Joseph', 8, 'Alex', 7]\n"
     ]
    }
   ],
   "source": [
    "print(Total_Students)"
   ]
  },
  {
   "cell_type": "code",
   "execution_count": 8,
   "metadata": {},
   "outputs": [],
   "source": [
    "# lets define a class\n",
    "class Point:\n",
    "    def __init__(self, x=0, y=0):\n",
    "        self.x = x\n",
    "        self.y = y\n",
    "        "
   ]
  },
  {
   "cell_type": "code",
   "execution_count": 9,
   "metadata": {},
   "outputs": [
    {
     "name": "stdout",
     "output_type": "stream",
     "text": [
      "<__main__.Point object at 0x05B83750>\n"
     ]
    }
   ],
   "source": [
    "P1 = Point(2,3)\n",
    "print(P1)"
   ]
  },
  {
   "cell_type": "code",
   "execution_count": 10,
   "metadata": {},
   "outputs": [],
   "source": [
    "P11 = Point(3,4)"
   ]
  },
  {
   "cell_type": "code",
   "execution_count": 11,
   "metadata": {},
   "outputs": [
    {
     "ename": "TypeError",
     "evalue": "unsupported operand type(s) for +: 'Point' and 'Point'",
     "output_type": "error",
     "traceback": [
      "\u001b[1;31m---------------------------------------------------------------------------\u001b[0m",
      "\u001b[1;31mTypeError\u001b[0m                                 Traceback (most recent call last)",
      "\u001b[1;32m<ipython-input-11-f06b60177d77>\u001b[0m in \u001b[0;36m<module>\u001b[1;34m\u001b[0m\n\u001b[1;32m----> 1\u001b[1;33m \u001b[0mprint\u001b[0m\u001b[1;33m(\u001b[0m\u001b[0mP1\u001b[0m\u001b[1;33m+\u001b[0m\u001b[0mP11\u001b[0m\u001b[1;33m)\u001b[0m\u001b[1;33m\u001b[0m\u001b[0m\n\u001b[0m",
      "\u001b[1;31mTypeError\u001b[0m: unsupported operand type(s) for +: 'Point' and 'Point'"
     ]
    }
   ],
   "source": [
    "print(P1+P11)"
   ]
  },
  {
   "cell_type": "code",
   "execution_count": 12,
   "metadata": {},
   "outputs": [],
   "source": [
    "# This didn't print well, however, using special function, we can make it print well because, we make our class compatible with \n",
    "# built-in class functions.\n",
    "class Point_update:\n",
    "    def __init__(self, x=0, y=0):\n",
    "        self.x = x\n",
    "        self.y = y\n",
    "    def __str__(self):\n",
    "        return \"({},{})\".format(self.x, self.y)"
   ]
  },
  {
   "cell_type": "code",
   "execution_count": 13,
   "metadata": {},
   "outputs": [
    {
     "name": "stdout",
     "output_type": "stream",
     "text": [
      "(3,4)\n"
     ]
    }
   ],
   "source": [
    "P2 = Point_update(3,4)\n",
    "print(P2)"
   ]
  },
  {
   "cell_type": "code",
   "execution_count": 27,
   "metadata": {},
   "outputs": [
    {
     "data": {
      "text/plain": [
       "'(3,4)'"
      ]
     },
     "execution_count": 27,
     "metadata": {},
     "output_type": "execute_result"
    }
   ],
   "source": [
    "# We can also use built-in functions of str() and format() to print this\n",
    "str(P2)"
   ]
  },
  {
   "cell_type": "code",
   "execution_count": 28,
   "metadata": {},
   "outputs": [
    {
     "data": {
      "text/plain": [
       "'(3,4)'"
      ]
     },
     "execution_count": 28,
     "metadata": {},
     "output_type": "execute_result"
    }
   ],
   "source": [
    "format(P2)"
   ]
  },
  {
   "cell_type": "code",
   "execution_count": 14,
   "metadata": {},
   "outputs": [
    {
     "ename": "TypeError",
     "evalue": "unsupported operand type(s) for +: 'Point' and 'Point_update'",
     "output_type": "error",
     "traceback": [
      "\u001b[1;31m---------------------------------------------------------------------------\u001b[0m",
      "\u001b[1;31mTypeError\u001b[0m                                 Traceback (most recent call last)",
      "\u001b[1;32m<ipython-input-14-edf5962ee5aa>\u001b[0m in \u001b[0;36m<module>\u001b[1;34m\u001b[0m\n\u001b[1;32m----> 1\u001b[1;33m \u001b[0mprint\u001b[0m\u001b[1;33m(\u001b[0m\u001b[0mP1\u001b[0m\u001b[1;33m+\u001b[0m\u001b[0mP2\u001b[0m\u001b[1;33m)\u001b[0m\u001b[1;33m\u001b[0m\u001b[0m\n\u001b[0m\u001b[0;32m      2\u001b[0m \u001b[1;31m# These 2 classes are user built-in classes and not compatible with the existing plus operator class, therefore,\u001b[0m\u001b[1;33m\u001b[0m\u001b[1;33m\u001b[0m\u001b[0m\n\u001b[0;32m      3\u001b[0m \u001b[1;31m# we can solve this problem and make it compatible by adding a special add function to the class. This process is operator\u001b[0m\u001b[1;33m\u001b[0m\u001b[1;33m\u001b[0m\u001b[0m\n\u001b[0;32m      4\u001b[0m \u001b[1;31m# overloading.\u001b[0m\u001b[1;33m\u001b[0m\u001b[1;33m\u001b[0m\u001b[0m\n",
      "\u001b[1;31mTypeError\u001b[0m: unsupported operand type(s) for +: 'Point' and 'Point_update'"
     ]
    }
   ],
   "source": [
    "print(P1+P2)\n",
    "# These 2 classes are user built-in classes and not compatible with the existing plus operator class, therefore, \n",
    "# we can solve this problem and make it compatible by adding a special add function to the class. This process is operator\n",
    "# overloading."
   ]
  },
  {
   "cell_type": "code",
   "execution_count": 15,
   "metadata": {},
   "outputs": [],
   "source": [
    "# Overloading the + Operator in Python\n",
    "class Point_updated:\n",
    "    def __init__(self, x=0, y=0):\n",
    "        self.x = x\n",
    "        self.y = y\n",
    "    def __str__(self):\n",
    "        return \"({},{})\".format(self.x, self.y)\n",
    "    def __add__(self, other):\n",
    "        x = self.x + other.x\n",
    "        y = self.y + other.y\n",
    "        return Point_updated(x,y)\n",
    "    "
   ]
  },
  {
   "cell_type": "code",
   "execution_count": 16,
   "metadata": {},
   "outputs": [
    {
     "name": "stdout",
     "output_type": "stream",
     "text": [
      "(13,15)\n"
     ]
    }
   ],
   "source": [
    "p3 = Point_updated(8,9)\n",
    "p4 = Point_updated(5,6)\n",
    "print(p3+p4)"
   ]
  },
  {
   "cell_type": "code",
   "execution_count": 17,
   "metadata": {},
   "outputs": [
    {
     "name": "stdout",
     "output_type": "stream",
     "text": [
      "(8,9)\n"
     ]
    }
   ],
   "source": [
    "print(p3)"
   ]
  },
  {
   "cell_type": "code",
   "execution_count": 21,
   "metadata": {},
   "outputs": [],
   "source": [
    "# Some of the Common Operator Overloading Special Functions in Python\n",
    "# Operator\t        Expression\t     Internally\n",
    "# Addition\t        p1 + p2\t         p1.__add__(p2)\n",
    "# Subtraction\t    p1 - p2\t         p1.__sub__(p2)\n",
    "# Multiplication\tp1 * p2\t         p1.__mul__(p2)\n",
    "# Power\t            p1 ** p2\t     p1.__pow__(p2)\n",
    "# Division\t        p1 / p2\t         p1.__truediv__(p2)"
   ]
  },
  {
   "cell_type": "code",
   "execution_count": null,
   "metadata": {},
   "outputs": [],
   "source": [
    "# Special Functions in Python\n",
    "https://docs.python.org/3/reference/datamodel.html#special-method-names"
   ]
  }
 ],
 "metadata": {
  "kernelspec": {
   "display_name": "Python 3",
   "language": "python",
   "name": "python3"
  },
  "language_info": {
   "codemirror_mode": {
    "name": "ipython",
    "version": 3
   },
   "file_extension": ".py",
   "mimetype": "text/x-python",
   "name": "python",
   "nbconvert_exporter": "python",
   "pygments_lexer": "ipython3",
   "version": "3.7.0"
  }
 },
 "nbformat": 4,
 "nbformat_minor": 2
}
