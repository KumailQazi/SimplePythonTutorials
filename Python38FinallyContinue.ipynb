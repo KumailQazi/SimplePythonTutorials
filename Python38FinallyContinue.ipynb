{
 "cells": [
  {
   "cell_type": "code",
   "execution_count": 2,
   "metadata": {},
   "outputs": [
    {
     "ename": "SyntaxError",
     "evalue": "'continue' not supported inside 'finally' clause (cell_name, line 12)",
     "output_type": "error",
     "traceback": [
      "\u001b[1;36m  File \u001b[1;32m\"cell_name\"\u001b[1;36m, line \u001b[1;32m12\u001b[0m\n\u001b[1;31mSyntaxError\u001b[0m\u001b[1;31m:\u001b[0m 'continue' not supported inside 'finally' clause\n"
     ]
    }
   ],
   "source": [
    "def new_continue():\n",
    "    for i in range(12):\n",
    "        try:\n",
    "            print(i/0)\n",
    "        except:\n",
    "            print(i)\n",
    "        finally:\n",
    "            print(\"no error in continue\")\n",
    "            continue\n",
    "\n",
    "new_continue()"
   ]
  }
 ],
 "metadata": {
  "kernelspec": {
   "display_name": "Python 3",
   "language": "python",
   "name": "python3"
  },
  "language_info": {
   "codemirror_mode": {
    "name": "ipython",
    "version": 3
   },
   "file_extension": ".py",
   "mimetype": "text/x-python",
   "name": "python",
   "nbconvert_exporter": "python",
   "pygments_lexer": "ipython3",
   "version": "3.7.0"
  }
 },
 "nbformat": 4,
 "nbformat_minor": 2
}
