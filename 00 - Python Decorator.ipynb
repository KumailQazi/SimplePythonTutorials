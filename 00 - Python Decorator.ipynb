{
 "cells": [
  {
   "cell_type": "code",
   "execution_count": 2,
   "metadata": {},
   "outputs": [],
   "source": [
    "# Why Should I Master Decorators in Python?\n",
    "# Topics Outline\n",
    "# Introduction to Decorators\n",
    "# Importance of decorator\n",
    "# Decorator Syntax\n",
    "# Decorating functions with parameters examples\n",
    "# Chaining Decorators in Python | Applying multiple decorators to a single function.\n",
    "# Debugging Decorators\n",
    "# Examples\n",
    "# Exercise\n",
    "# Python Decorators Summary"
   ]
  },
  {
   "cell_type": "code",
   "execution_count": null,
   "metadata": {},
   "outputs": [],
   "source": [
    "# Why Should I Master Decorators in Python?\n",
    "# Reading this and adding images.\n",
    "# day to day work python developer\n",
    "# Happy developer\n",
    "# Rainy day\n",
    "# 30 functions in your business logic in your report generating program\n",
    "# You dont know decorators Sad developer (you might be spending the next three days scrambling to modify each of those 30 functions)\n",
    "# You know decorators you’ll calmly smile at your boss and say: “Don’t worry Jim, I’ll get it done by 2pm today.”\n",
    "# https://dbader.org/blog/python-decorators"
   ]
  },
  {
   "cell_type": "code",
   "execution_count": null,
   "metadata": {},
   "outputs": [],
   "source": [
    "# Introduction to Decorators\n",
    "# Start from here\n",
    "# Python decorator are the function that receive a function as an argument and return another function as return value. \n",
    "# Assumption of a decorator. \n",
    "# That we will pass a function as argument. \n",
    "# The signature of inner function in the decorator must match the function to decorate.\n",
    "# In other words, that takes function (to be decorated) as argument, uses that function inside another function in the decorator\n",
    "# and return that another function. That means added functionality to the function to be decorated.\n",
    "# Tip: *args is used to send a non-keyworded variable length argument list to the function.\n",
    "# **kwargs allows you to pass keyworded variable length of arguments to a function. \n",
    "# Function Decorators\n",
    "# Class Decorators\n",
    "# Method Decorators\n",
    "# https://www.python-course.eu/python3_decorators.php\n",
    "# https://dev.to/apcelent/python-decorator-tutorial-with-example-529f\n",
    "# https://pythontips.com/2013/08/04/args-and-kwargs-in-python-explained/\n",
    "# https://egghead.io/articles/recording-a-great-coding-screencast   Step by step coding."
   ]
  },
  {
   "cell_type": "code",
   "execution_count": 64,
   "metadata": {},
   "outputs": [],
   "source": [
    "# A function to add functionality to an existing function i.e. a decorator.\n",
    "def decorator(func):\n",
    "    def to_be_added():\n",
    "        print(\"I got decorated\")\n",
    "        func()\n",
    "    return to_be_added"
   ]
  },
  {
   "cell_type": "code",
   "execution_count": 66,
   "metadata": {},
   "outputs": [
    {
     "name": "stdout",
     "output_type": "stream",
     "text": [
      "I am ordinary\n"
     ]
    }
   ],
   "source": [
    "# A normal function\n",
    "def normal_function():\n",
    "    print(\"I am ordinary\")\n",
    "normal_function()"
   ]
  },
  {
   "cell_type": "code",
   "execution_count": 68,
   "metadata": {},
   "outputs": [
    {
     "name": "stdout",
     "output_type": "stream",
     "text": [
      "I got decorated\n",
      "I am ordinary\n"
     ]
    }
   ],
   "source": [
    "# Execution of a decorator\n",
    "@decorator\n",
    "def normal_function():\n",
    "    print(\"I am ordinary\")\n",
    "normal_function()"
   ]
  },
  {
   "cell_type": "code",
   "execution_count": 71,
   "metadata": {},
   "outputs": [
    {
     "name": "stdout",
     "output_type": "stream",
     "text": [
      "I got decorated\n",
      "I got decorated\n",
      "I am ordinary\n"
     ]
    }
   ],
   "source": [
    "# Another way of decorating. And it got decorated second time.\n",
    "added_functionality = decorator(normal_function)\n",
    "added_functionality()"
   ]
  },
  {
   "cell_type": "code",
   "execution_count": 61,
   "metadata": {},
   "outputs": [],
   "source": [
    "# A more complex decorator example\n",
    "import time\n",
    "\n",
    "def timetest(input_func):\n",
    "    def timed(*args, **kwargs):\n",
    "            \n",
    "        start_time = time.time()\n",
    "        result = input_func(*args, **kwargs)\n",
    "        end_time = time.time()\n",
    "        print(\"Method Name - {0}, Args - {1}, Kwargs - {2}, Execution Time - {3}\".format(\n",
    "            input_func.__name__,\n",
    "            args,\n",
    "            kwargs,\n",
    "            end_time - start_time\n",
    "        ))\n",
    "        return result\n",
    "    return timed"
   ]
  },
  {
   "cell_type": "code",
   "execution_count": 49,
   "metadata": {},
   "outputs": [],
   "source": [
    "def foobar(*args, **kwargs):\n",
    "    time.sleep(0.3)\n",
    "    print(\"inside foobar\")\n",
    "    print(args, kwargs)"
   ]
  },
  {
   "cell_type": "code",
   "execution_count": 50,
   "metadata": {},
   "outputs": [
    {
     "name": "stdout",
     "output_type": "stream",
     "text": [
      "inside foobar\n",
      "(['hello, world'],) {'foo': 2, 'bar': 5}\n"
     ]
    }
   ],
   "source": [
    "foobar([\"hello, world\"], foo=2, bar=5)"
   ]
  },
  {
   "cell_type": "code",
   "execution_count": 62,
   "metadata": {},
   "outputs": [],
   "source": [
    "@timetest\n",
    "def foobar(*args, **kwargs):\n",
    "    time.sleep(0.3)\n",
    "    print(\"inside foobar\")\n",
    "    print(args, kwargs)"
   ]
  },
  {
   "cell_type": "code",
   "execution_count": 63,
   "metadata": {},
   "outputs": [
    {
     "name": "stdout",
     "output_type": "stream",
     "text": [
      "inside foobar\n",
      "(['hello, world'],) {'foo': 2, 'bar': 5}\n",
      "Method Name - foobar, Args - (['hello, world'],), Kwargs - {'foo': 2, 'bar': 5}, Execution Time - 0.3001832962036133\n"
     ]
    }
   ],
   "source": [
    "foobar([\"hello, world\"], foo=2, bar=5)"
   ]
  },
  {
   "cell_type": "code",
   "execution_count": null,
   "metadata": {},
   "outputs": [],
   "source": [
    "What is a decorator\n",
    "# Starting from importance of decorator.\n",
    "# Explaining the story to start with.\n",
    "# Understanding decorators is the milestone for any serious python programmer. This requires solid understanding of advanced topics\n",
    "# The payoff for underderstanding decorators is huge in python.\n",
    "# Explaining decorators is also a make or break moment \n",
    "# for any good Python tutorial. I’ll do my best here to introduce you to them step by step.\n",
    "# like, properties of first class function.\n",
    "# -A function that takes another function.\n",
    "# -Extends the behavior of that function.\n",
    "# -Without explicitly modifying the function.\n",
    "# An interesting feature in Python allow you to extend and modify the behavior of a callable (functions, \n",
    "# methods, and classes) without permanently modifying the callable itself."
   ]
  },
  {
   "cell_type": "code",
   "execution_count": 4,
   "metadata": {},
   "outputs": [],
   "source": [
    "# That adds functionality to an existing code."
   ]
  },
  {
   "cell_type": "code",
   "execution_count": null,
   "metadata": {},
   "outputs": [],
   "source": [
    "# Now, what are decorators really? They “decorate” or “wrap” another function and \n",
    "# let you execute code before and after the wrapped function runs."
   ]
  },
  {
   "cell_type": "code",
   "execution_count": 6,
   "metadata": {},
   "outputs": [],
   "source": [
    "# Also called meta programming as one part of the program tries to modify another part of the program at the time of \n",
    "# compilation."
   ]
  },
  {
   "cell_type": "code",
   "execution_count": 7,
   "metadata": {},
   "outputs": [],
   "source": [
    "# Pre requisites for learning decorators is that everything in python is an object even classes and functions. \n",
    "# Names are just identifiers to those objects.\n",
    "# Various names can be bound to those functions."
   ]
  },
  {
   "cell_type": "code",
   "execution_count": null,
   "metadata": {},
   "outputs": [],
   "source": [
    "# Syntax for Decorator:\n",
    "# @gfg_decorator\n",
    "# def hello_decorator(): \n",
    "# \tprint(\"Gfg\") \n",
    "\n",
    "# '''Above code is equivalent to - \n",
    "\n",
    "# def hello_decorator(): \n",
    "# \tprint(\"Gfg\") \n",
    "\t\n",
    "# hello_decorator = gfg_decorator(hello_decorator)'''"
   ]
  },
  {
   "cell_type": "code",
   "execution_count": null,
   "metadata": {},
   "outputs": [],
   "source": [
    "Decorator can modify the behavior:\n",
    "defining a decorator \n",
    "def hello_decorator(func): \n",
    "\n",
    "\t# inner1 is a Wrapper function in \n",
    "\t# which the argument is called \n",
    "\t\n",
    "\t# inner function can access the outer local \n",
    "\t# functions like in this case \"func\" \n",
    "\tdef inner1(): \n",
    "\t\tprint(\"Hello, this is before function execution\") \n",
    "\n",
    "\t\t# calling the actual function now \n",
    "\t\t# inside the wrapper function. \n",
    "\t\tfunc() \n",
    "\n",
    "\t\tprint(\"This is after function execution\") \n",
    "\t\t\n",
    "\treturn inner1 \n",
    "\n",
    "\n",
    "# defining a function, to be called inside wrapper \n",
    "def function_to_be_used(): \n",
    "\tprint(\"This is inside the function !!\") \n",
    "\n",
    "\n",
    "# passing 'function_to_be_used' inside the \n",
    "# decorator to control its behavior \n",
    "function_to_be_used = hello_decorator(function_to_be_used) \n",
    "\n",
    "\n",
    "# calling the function \n",
    "function_to_be_used() "
   ]
  },
  {
   "cell_type": "code",
   "execution_count": null,
   "metadata": {},
   "outputs": [],
   "source": [
    "# 2 images from geeks for geeks.\n",
    "# https://www.geeksforgeeks.org/decorators-in-python/\n",
    "# Syntax and examples"
   ]
  },
  {
   "cell_type": "code",
   "execution_count": 8,
   "metadata": {},
   "outputs": [
    {
     "name": "stdout",
     "output_type": "stream",
     "text": [
      "Hello\n",
      "Hello\n"
     ]
    }
   ],
   "source": [
    "def first(msg):\n",
    "    print(msg)    \n",
    "\n",
    "first(\"Hello\")\n",
    "\n",
    "second = first\n",
    "second(\"Hello\")"
   ]
  },
  {
   "cell_type": "code",
   "execution_count": null,
   "metadata": {},
   "outputs": [],
   "source": [
    "# Decorating functions with parameters examples\n",
    "# https://www.programiz.com/python-programming/decorator\n"
   ]
  },
  {
   "cell_type": "code",
   "execution_count": null,
   "metadata": {},
   "outputs": [],
   "source": [
    "# Chaining Decorators in Python\n",
    "# https://www.programiz.com/python-programming/decorator"
   ]
  },
  {
   "cell_type": "code",
   "execution_count": null,
   "metadata": {},
   "outputs": [],
   "source": [
    "# Debugging Decorators\n",
    "# https://www.datacamp.com/community/tutorials/decorators-python\n",
    "# https://www.endpoint.com/blog/2013/12/13/python-decorator-basics\n",
    "# https://www.youtube.com/watch?v=PziW2XUNt0E\n",
    "# after 6 mins"
   ]
  },
  {
   "cell_type": "code",
   "execution_count": null,
   "metadata": {},
   "outputs": [],
   "source": [
    "# Python Decorators Summary\n",
    "# https://www.datacamp.com/community/tutorials/decorators-python"
   ]
  },
  {
   "cell_type": "code",
   "execution_count": null,
   "metadata": {},
   "outputs": [],
   "source": [
    "# Examples\n",
    "# make a function repeat twice.\n",
    "# You can also make it change the output.\n",
    "# change input.\n",
    "# and do checking.\n",
    "# you want to multiply the output by a variable amount. You could define the decorator and use it as follows:\n",
    "# https://www.learnpython.org/en/Decorators"
   ]
  },
  {
   "cell_type": "code",
   "execution_count": 9,
   "metadata": {},
   "outputs": [],
   "source": [
    "# Here both the function gives same output."
   ]
  },
  {
   "cell_type": "code",
   "execution_count": 11,
   "metadata": {},
   "outputs": [],
   "source": [
    "#1 Functions can be passed as arguments to another function. For e.g. map, filter, reduce."
   ]
  },
  {
   "cell_type": "code",
   "execution_count": 12,
   "metadata": {},
   "outputs": [],
   "source": [
    "# Higher Order Function\n",
    "# Such a function that takes other functions as argument is called Higher Order Function."
   ]
  },
  {
   "cell_type": "code",
   "execution_count": 13,
   "metadata": {},
   "outputs": [],
   "source": [
    "def add(x):\n",
    "    return x + 1\n",
    "\n",
    "def sub(x):\n",
    "    return x - 1\n",
    "\n",
    "def merg(func, x):\n",
    "    result = func(x)\n",
    "    return result"
   ]
  },
  {
   "cell_type": "code",
   "execution_count": 14,
   "metadata": {},
   "outputs": [
    {
     "data": {
      "text/plain": [
       "6"
      ]
     },
     "execution_count": 14,
     "metadata": {},
     "output_type": "execute_result"
    }
   ],
   "source": [
    "merg(add, 5)"
   ]
  },
  {
   "cell_type": "code",
   "execution_count": 15,
   "metadata": {},
   "outputs": [
    {
     "name": "stdout",
     "output_type": "stream",
     "text": [
      "Hello\n"
     ]
    }
   ],
   "source": [
    "#2 Another feature. A function can return another function or in other words, function can be defined in another function and a \n",
    "# child function can capture the parent function's local state.\n",
    "def fun1():\n",
    "    def fun2():\n",
    "        print(\"Hey there!!\")\n",
    "    return fun2\n",
    "\n",
    "new = fun1()\n",
    "\n",
    "#Outputs \"Hello\"\n",
    "new()"
   ]
  },
  {
   "cell_type": "code",
   "execution_count": 16,
   "metadata": {},
   "outputs": [],
   "source": [
    "# Here fun2 is a nested function which is defined and returned."
   ]
  },
  {
   "cell_type": "code",
   "execution_count": null,
   "metadata": {},
   "outputs": [],
   "source": [
    "# Functions and methods are called callable as they can be called."
   ]
  },
  {
   "cell_type": "code",
   "execution_count": 28,
   "metadata": {},
   "outputs": [],
   "source": [
    "# 1st decorator\n",
    "def make_pretty(func):\n",
    "    def inner():\n",
    "        print(\"I got decorated\")\n",
    "        func()\n",
    "    return inner\n",
    "@make_pretty\n",
    "def ordinary():\n",
    "    print(\"I am ordinary\")"
   ]
  },
  {
   "cell_type": "code",
   "execution_count": 29,
   "metadata": {},
   "outputs": [
    {
     "name": "stdout",
     "output_type": "stream",
     "text": [
      "I got decorated\n",
      "I am ordinary\n"
     ]
    }
   ],
   "source": [
    "# syntacted sugar\n",
    "ordinary()"
   ]
  },
  {
   "cell_type": "code",
   "execution_count": 19,
   "metadata": {},
   "outputs": [],
   "source": [
    "my_ordinary = make_pretty(ordinary)"
   ]
  },
  {
   "cell_type": "code",
   "execution_count": null,
   "metadata": {},
   "outputs": [],
   "source": [
    "print(my_ordinary)"
   ]
  },
  {
   "cell_type": "code",
   "execution_count": 22,
   "metadata": {},
   "outputs": [
    {
     "name": "stdout",
     "output_type": "stream",
     "text": [
      "I got decorated\n",
      "I am ordinary\n"
     ]
    }
   ],
   "source": [
    "my_ordinary()"
   ]
  },
  {
   "cell_type": "code",
   "execution_count": 23,
   "metadata": {},
   "outputs": [],
   "source": [
    "# 2nd decorator\n",
    "def my_decorator(func):\n",
    "    def wrapper():\n",
    "        print(\"This is printed before being decorated.\")\n",
    "        func()\n",
    "        print(\"This is printed after being decorated.\")\n",
    "    return wrapper\n",
    "def ordinary():\n",
    "    print(\"Hello\")"
   ]
  },
  {
   "cell_type": "code",
   "execution_count": 24,
   "metadata": {},
   "outputs": [],
   "source": [
    "ord = my_decorator(ordinary)"
   ]
  },
  {
   "cell_type": "code",
   "execution_count": 25,
   "metadata": {},
   "outputs": [
    {
     "name": "stdout",
     "output_type": "stream",
     "text": [
      "This is printed before being decorated.\n",
      "Hello\n",
      "This is printed after being decorated.\n"
     ]
    }
   ],
   "source": [
    "ord()"
   ]
  },
  {
   "cell_type": "code",
   "execution_count": 30,
   "metadata": {},
   "outputs": [],
   "source": [
    "def my_decorator(func):\n",
    "    def wrapper():\n",
    "        print(\"This is printed before being decorated.\")\n",
    "        func()\n",
    "        print(\"This is printed after being decorated.\")\n",
    "    return wrapper\n",
    "# syntacted sugar\n",
    "@my_decorator\n",
    "def ordinary():\n",
    "    print(\"Hello\")"
   ]
  },
  {
   "cell_type": "code",
   "execution_count": 31,
   "metadata": {},
   "outputs": [
    {
     "name": "stdout",
     "output_type": "stream",
     "text": [
      "This is printed before being decorated.\n",
      "Hello\n",
      "This is printed after being decorated.\n"
     ]
    }
   ],
   "source": [
    "ordinary()"
   ]
  }
 ],
 "metadata": {
  "kernelspec": {
   "display_name": "Python 3",
   "language": "python",
   "name": "python3"
  },
  "language_info": {
   "codemirror_mode": {
    "name": "ipython",
    "version": 3
   },
   "file_extension": ".py",
   "mimetype": "text/x-python",
   "name": "python",
   "nbconvert_exporter": "python",
   "pygments_lexer": "ipython3",
   "version": "3.7.4"
  }
 },
 "nbformat": 4,
 "nbformat_minor": 2
}
